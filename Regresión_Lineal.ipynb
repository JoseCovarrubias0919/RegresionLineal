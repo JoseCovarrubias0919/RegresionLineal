{
  "nbformat": 4,
  "nbformat_minor": 0,
  "metadata": {
    "colab": {
      "provenance": []
    },
    "kernelspec": {
      "name": "python3",
      "display_name": "Python 3"
    },
    "language_info": {
      "name": "python"
    }
  },
  "cells": [
    {
      "cell_type": "code",
      "execution_count": null,
      "metadata": {
        "colab": {
          "base_uri": "https://localhost:8080/",
          "height": 318
        },
        "id": "w44G7kaekT30",
        "outputId": "dbb545d5-8871-4850-d30c-7061de2d7164"
      },
      "outputs": [
        {
          "output_type": "stream",
          "name": "stdout",
          "text": [
            "Mounted at /content/drive\n"
          ]
        },
        {
          "output_type": "execute_result",
          "data": {
            "text/plain": [
              "<matplotlib.collections.PathCollection at 0x7fb6e281e790>"
            ]
          },
          "metadata": {},
          "execution_count": 1
        },
        {
          "output_type": "display_data",
          "data": {
            "text/plain": [
              "<Figure size 432x288 with 1 Axes>"
            ],
            "image/png": "[encoded data removed]"
          },
          "metadata": {
            "needs_background": "light"
          }
        }
      ],
      "source": [
        "# Importar módulos\n",
        "\n",
        "import tensorflow as tf\n",
        "import numpy as np\n",
        "import pandas as pd\n",
        "import matplotlib.pyplot as plt\n",
        "\n",
        "%matplotlib inline\n",
        "\n",
        "# Leer los datos en famas de datos\n",
        "from google.colab import drive\n",
        "drive.mount('/content/drive')\n",
        "df = pd.read_csv('/content/drive/MyDrive/tensorflow/sample_file.csv', header=None)\n",
        "# Make X a 2-D array of size N x D where D = 1 / .values converts series to numpy arrray\n",
        "X = df.values[:,0] #.reshape(-1, 1)\n",
        "Y = df.values[:,1]\n",
        "\n",
        "# Graficar los datos: es exponencial\n",
        "\n",
        "plt.scatter(X, Y)"
      ]
    },
    {
      "cell_type": "code",
      "source": [
        "# Como queremos un modelo lineal, tomamos el registro\n",
        "Y = np.log(Y)\n",
        "plt.scatter(X, Y)"
      ],
      "metadata": {
        "colab": {
          "base_uri": "https://localhost:8080/",
          "height": 286
        },
        "id": "l2IreObhnkX_",
        "outputId": "9d22e8ef-954f-4421-c0f2-826352b2aec3"
      },
      "execution_count": null,
      "outputs": [
        {
          "output_type": "execute_result",
          "data": {
            "text/plain": [
              "<matplotlib.collections.PathCollection at 0x7fb6e22eadc0>"
            ]
          },
          "metadata": {},
          "execution_count": 2
        },
        {
          "output_type": "display_data",
          "data": {
            "text/plain": [
              "<Figure size 432x288 with 1 Axes>"
            ],
            "image/png": "[encoded data removed]"
          },
          "metadata": {
            "needs_background": "light"
          }
        }
      ]
    },
    {
      "cell_type": "code",
      "source": [
        "# Recuerde escalar los datos\n",
        "\n",
        "X = X - X.mean()\n",
        "\n",
        "\n",
        "# Creemos una estructura de modelo TensorFlow aquí\n",
        "\n",
        "model = tf.keras.models.Sequential([\n",
        "tf.keras.layers.Input(shape=(1,)),\n",
        "tf.keras.layers.Dense(1)\n",
        "])\n",
        "\n",
        "# Compila el modelo\n",
        "\n",
        "model.compile(optimizer=tf.keras.optimizers.SGD(0.001, 0.9), loss='mean_squared_error')\n",
        "\n",
        "# Establecer tasa de aprendizaje\n",
        "\n",
        "def lean_rate(epoch, lr):\n",
        "  if epoch >= 50:\n",
        "    return 0.0001\n",
        "  else :\n",
        "    return 0.001\n",
        "scheduler = tf.keras.callbacks.LearningRateScheduler(lean_rate)\n",
        "\n",
        "\n",
        "# entrenar al modelo\n",
        "\n",
        "fit = model.fit(X, Y, epochs=200, callbacks=[scheduler])"
      ],
      "metadata": {
        "colab": {
          "base_uri": "https://localhost:8080/"
        },
        "id": "MzcNXA4poz3Z",
        "outputId": "8ed0720a-2e76-4f83-d7a2-f6161122c56d"
      },
      "execution_count": null,
      "outputs": [
        {
          "output_type": "stream",
          "name": "stdout",
          "text": [
            "Epoch 1/200\n",
            "6/6 [==============================] - 0s 2ms/step - loss: 361.4661 - lr: 0.0010\n",
            "Epoch 2/200\n",
            "6/6 [==============================] - 0s 2ms/step - loss: 328.4521 - lr: 0.0010\n",
            "Epoch 3/200\n",
            "6/6 [==============================] - 0s 3ms/step - loss: 267.8880 - lr: 0.0010\n",
            "Epoch 4/200\n",
            "6/6 [==============================] - 0s 2ms/step - loss: 252.5992 - lr: 0.0010\n",
            "Epoch 5/200\n",
            "6/6 [==============================] - 0s 3ms/step - loss: 207.1656 - lr: 0.0010\n",
            "Epoch 6/200\n",
            "6/6 [==============================] - 0s 2ms/step - loss: 193.3394 - lr: 0.0010\n",
            "Epoch 7/200\n",
            "6/6 [==============================] - 0s 2ms/step - loss: 177.9047 - lr: 0.0010\n",
            "Epoch 8/200\n",
            "6/6 [==============================] - 0s 4ms/step - loss: 132.0153 - lr: 0.0010\n",
            "Epoch 9/200\n",
            "6/6 [==============================] - 0s 3ms/step - loss: 106.8470 - lr: 0.0010\n",
            "Epoch 10/200\n",
            "6/6 [==============================] - 0s 3ms/step - loss: 69.2797 - lr: 0.0010\n",
            "Epoch 11/200\n",
            "6/6 [==============================] - 0s 3ms/step - loss: 98.5920 - lr: 0.0010\n",
            "Epoch 12/200\n",
            "6/6 [==============================] - 0s 3ms/step - loss: 92.5779 - lr: 0.0010\n",
            "Epoch 13/200\n",
            "6/6 [==============================] - 0s 3ms/step - loss: 43.2014 - lr: 0.0010\n",
            "Epoch 14/200\n",
            "6/6 [==============================] - 0s 2ms/step - loss: 21.9435 - lr: 0.0010\n",
            "Epoch 15/200\n",
            "6/6 [==============================] - 0s 2ms/step - loss: 10.7218 - lr: 0.0010\n",
            "Epoch 16/200\n",
            "6/6 [==============================] - 0s 2ms/step - loss: 8.2700 - lr: 0.0010\n",
            "Epoch 17/200\n",
            "6/6 [==============================] - 0s 2ms/step - loss: 7.8700 - lr: 0.0010\n",
            "Epoch 18/200\n",
            "6/6 [==============================] - 0s 2ms/step - loss: 5.1860 - lr: 0.0010\n",
            "Epoch 19/200\n",
            "6/6 [==============================] - 0s 2ms/step - loss: 6.3216 - lr: 0.0010\n",
            "Epoch 20/200\n",
            "6/6 [==============================] - 0s 2ms/step - loss: 6.9160 - lr: 0.0010\n",
            "Epoch 21/200\n",
            "6/6 [==============================] - 0s 2ms/step - loss: 3.8853 - lr: 0.0010\n",
            "Epoch 22/200\n",
            "6/6 [==============================] - 0s 2ms/step - loss: 2.0461 - lr: 0.0010\n",
            "Epoch 23/200\n",
            "6/6 [==============================] - 0s 2ms/step - loss: 2.3458 - lr: 0.0010\n",
            "Epoch 24/200\n",
            "6/6 [==============================] - 0s 2ms/step - loss: 2.3601 - lr: 0.0010\n",
            "Epoch 25/200\n",
            "6/6 [==============================] - 0s 2ms/step - loss: 1.6601 - lr: 0.0010\n",
            "Epoch 26/200\n",
            "6/6 [==============================] - 0s 2ms/step - loss: 1.5648 - lr: 0.0010\n",
            "Epoch 27/200\n",
            "6/6 [==============================] - 0s 2ms/step - loss: 1.9699 - lr: 0.0010\n",
            "Epoch 28/200\n",
            "6/6 [==============================] - 0s 3ms/step - loss: 1.5031 - lr: 0.0010\n",
            "Epoch 29/200\n",
            "6/6 [==============================] - 0s 2ms/step - loss: 1.4034 - lr: 0.0010\n",
            "Epoch 30/200\n",
            "6/6 [==============================] - 0s 3ms/step - loss: 1.1280 - lr: 0.0010\n",
            "Epoch 31/200\n",
            "6/6 [==============================] - 0s 3ms/step - loss: 1.1120 - lr: 0.0010\n",
            "Epoch 32/200\n",
            "6/6 [==============================] - 0s 2ms/step - loss: 0.9856 - lr: 0.0010\n",
            "Epoch 33/200\n",
            "6/6 [==============================] - 0s 2ms/step - loss: 0.9061 - lr: 0.0010\n",
            "Epoch 34/200\n",
            "6/6 [==============================] - 0s 2ms/step - loss: 1.4575 - lr: 0.0010\n",
            "Epoch 35/200\n",
            "6/6 [==============================] - 0s 2ms/step - loss: 1.1325 - lr: 0.0010\n",
            "Epoch 36/200\n",
            "6/6 [==============================] - 0s 2ms/step - loss: 0.9966 - lr: 0.0010\n",
            "Epoch 37/200\n",
            "6/6 [==============================] - 0s 2ms/step - loss: 0.9852 - lr: 0.0010\n",
            "Epoch 38/200\n",
            "6/6 [==============================] - 0s 2ms/step - loss: 1.1242 - lr: 0.0010\n",
            "Epoch 39/200\n",
            "6/6 [==============================] - 0s 2ms/step - loss: 0.9269 - lr: 0.0010\n",
            "Epoch 40/200\n",
            "6/6 [==============================] - 0s 2ms/step - loss: 0.9322 - lr: 0.0010\n",
            "Epoch 41/200\n",
            "6/6 [==============================] - 0s 2ms/step - loss: 1.0557 - lr: 0.0010\n",
            "Epoch 42/200\n",
            "6/6 [==============================] - 0s 2ms/step - loss: 1.1354 - lr: 0.0010\n",
            "Epoch 43/200\n",
            "6/6 [==============================] - 0s 2ms/step - loss: 1.1293 - lr: 0.0010\n",
            "Epoch 44/200\n",
            "6/6 [==============================] - 0s 2ms/step - loss: 1.1295 - lr: 0.0010\n",
            "Epoch 45/200\n",
            "6/6 [==============================] - 0s 2ms/step - loss: 0.9453 - lr: 0.0010\n",
            "Epoch 46/200\n",
            "6/6 [==============================] - 0s 3ms/step - loss: 0.9834 - lr: 0.0010\n",
            "Epoch 47/200\n",
            "6/6 [==============================] - 0s 2ms/step - loss: 0.9788 - lr: 0.0010\n",
            "Epoch 48/200\n",
            "6/6 [==============================] - 0s 2ms/step - loss: 0.9011 - lr: 0.0010\n",
            "Epoch 49/200\n",
            "6/6 [==============================] - 0s 2ms/step - loss: 0.9316 - lr: 0.0010\n",
            "Epoch 50/200\n",
            "6/6 [==============================] - 0s 2ms/step - loss: 0.9285 - lr: 0.0010\n",
            "Epoch 51/200\n",
            "6/6 [==============================] - 0s 2ms/step - loss: 1.5613 - lr: 1.0000e-04\n",
            "Epoch 52/200\n",
            "6/6 [==============================] - 0s 3ms/step - loss: 1.8020 - lr: 1.0000e-04\n",
            "Epoch 53/200\n",
            "6/6 [==============================] - 0s 3ms/step - loss: 0.9665 - lr: 1.0000e-04\n",
            "Epoch 54/200\n",
            "6/6 [==============================] - 0s 2ms/step - loss: 0.9336 - lr: 1.0000e-04\n",
            "Epoch 55/200\n",
            "6/6 [==============================] - 0s 2ms/step - loss: 0.9238 - lr: 1.0000e-04\n",
            "Epoch 56/200\n",
            "6/6 [==============================] - 0s 2ms/step - loss: 0.8691 - lr: 1.0000e-04\n",
            "Epoch 57/200\n",
            "6/6 [==============================] - 0s 2ms/step - loss: 0.8989 - lr: 1.0000e-04\n",
            "Epoch 58/200\n",
            "6/6 [==============================] - 0s 2ms/step - loss: 0.8902 - lr: 1.0000e-04\n",
            "Epoch 59/200\n",
            "6/6 [==============================] - 0s 3ms/step - loss: 0.8734 - lr: 1.0000e-04\n",
            "Epoch 60/200\n",
            "6/6 [==============================] - 0s 4ms/step - loss: 0.8799 - lr: 1.0000e-04\n",
            "Epoch 61/200\n",
            "6/6 [==============================] - 0s 4ms/step - loss: 0.8805 - lr: 1.0000e-04\n",
            "Epoch 62/200\n",
            "6/6 [==============================] - 0s 4ms/step - loss: 0.8752 - lr: 1.0000e-04\n",
            "Epoch 63/200\n",
            "6/6 [==============================] - 0s 3ms/step - loss: 0.8821 - lr: 1.0000e-04\n",
            "Epoch 64/200\n",
            "6/6 [==============================] - 0s 2ms/step - loss: 0.8737 - lr: 1.0000e-04\n",
            "Epoch 65/200\n",
            "6/6 [==============================] - 0s 3ms/step - loss: 0.8768 - lr: 1.0000e-04\n",
            "Epoch 66/200\n",
            "6/6 [==============================] - 0s 3ms/step - loss: 0.8827 - lr: 1.0000e-04\n",
            "Epoch 67/200\n",
            "6/6 [==============================] - 0s 3ms/step - loss: 0.8726 - lr: 1.0000e-04\n",
            "Epoch 68/200\n",
            "6/6 [==============================] - 0s 2ms/step - loss: 0.8724 - lr: 1.0000e-04\n",
            "Epoch 69/200\n",
            "6/6 [==============================] - 0s 3ms/step - loss: 0.8748 - lr: 1.0000e-04\n",
            "Epoch 70/200\n",
            "6/6 [==============================] - 0s 3ms/step - loss: 0.8751 - lr: 1.0000e-04\n",
            "Epoch 71/200\n",
            "6/6 [==============================] - 0s 3ms/step - loss: 0.8736 - lr: 1.0000e-04\n",
            "Epoch 72/200\n",
            "6/6 [==============================] - 0s 2ms/step - loss: 0.8694 - lr: 1.0000e-04\n",
            "Epoch 73/200\n",
            "6/6 [==============================] - 0s 2ms/step - loss: 0.8708 - lr: 1.0000e-04\n",
            "Epoch 74/200\n",
            "6/6 [==============================] - 0s 2ms/step - loss: 0.8707 - lr: 1.0000e-04\n",
            "Epoch 75/200\n",
            "6/6 [==============================] - 0s 2ms/step - loss: 0.8706 - lr: 1.0000e-04\n",
            "Epoch 76/200\n",
            "6/6 [==============================] - 0s 2ms/step - loss: 0.8733 - lr: 1.0000e-04\n",
            "Epoch 77/200\n",
            "6/6 [==============================] - 0s 2ms/step - loss: 0.8728 - lr: 1.0000e-04\n",
            "Epoch 78/200\n",
            "6/6 [==============================] - 0s 2ms/step - loss: 0.8841 - lr: 1.0000e-04\n",
            "Epoch 79/200\n",
            "6/6 [==============================] - 0s 2ms/step - loss: 0.8803 - lr: 1.0000e-04\n",
            "Epoch 80/200\n",
            "6/6 [==============================] - 0s 2ms/step - loss: 0.8687 - lr: 1.0000e-04\n",
            "Epoch 81/200\n",
            "6/6 [==============================] - 0s 2ms/step - loss: 0.8856 - lr: 1.0000e-04\n",
            "Epoch 82/200\n",
            "6/6 [==============================] - 0s 2ms/step - loss: 0.8789 - lr: 1.0000e-04\n",
            "Epoch 83/200\n",
            "6/6 [==============================] - 0s 2ms/step - loss: 0.8749 - lr: 1.0000e-04\n",
            "Epoch 84/200\n",
            "6/6 [==============================] - 0s 2ms/step - loss: 0.8814 - lr: 1.0000e-04\n",
            "Epoch 85/200\n",
            "6/6 [==============================] - 0s 5ms/step - loss: 0.8786 - lr: 1.0000e-04\n",
            "Epoch 86/200\n",
            "6/6 [==============================] - 0s 2ms/step - loss: 0.8768 - lr: 1.0000e-04\n",
            "Epoch 87/200\n",
            "6/6 [==============================] - 0s 2ms/step - loss: 0.8714 - lr: 1.0000e-04\n",
            "Epoch 88/200\n",
            "6/6 [==============================] - 0s 2ms/step - loss: 0.8776 - lr: 1.0000e-04\n",
            "Epoch 89/200\n",
            "6/6 [==============================] - 0s 2ms/step - loss: 0.8791 - lr: 1.0000e-04\n",
            "Epoch 90/200\n",
            "6/6 [==============================] - 0s 2ms/step - loss: 0.8716 - lr: 1.0000e-04\n",
            "Epoch 91/200\n",
            "6/6 [==============================] - 0s 2ms/step - loss: 0.8737 - lr: 1.0000e-04\n",
            "Epoch 92/200\n",
            "6/6 [==============================] - 0s 2ms/step - loss: 0.8711 - lr: 1.0000e-04\n",
            "Epoch 93/200\n",
            "6/6 [==============================] - 0s 2ms/step - loss: 0.8724 - lr: 1.0000e-04\n",
            "Epoch 94/200\n",
            "6/6 [==============================] - 0s 3ms/step - loss: 0.8745 - lr: 1.0000e-04\n",
            "Epoch 95/200\n",
            "6/6 [==============================] - 0s 2ms/step - loss: 0.8710 - lr: 1.0000e-04\n",
            "Epoch 96/200\n",
            "6/6 [==============================] - 0s 2ms/step - loss: 0.8714 - lr: 1.0000e-04\n",
            "Epoch 97/200\n",
            "6/6 [==============================] - 0s 2ms/step - loss: 0.8740 - lr: 1.0000e-04\n",
            "Epoch 98/200\n",
            "6/6 [==============================] - 0s 2ms/step - loss: 0.8707 - lr: 1.0000e-04\n",
            "Epoch 99/200\n",
            "6/6 [==============================] - 0s 2ms/step - loss: 0.8794 - lr: 1.0000e-04\n",
            "Epoch 100/200\n",
            "6/6 [==============================] - 0s 2ms/step - loss: 0.8810 - lr: 1.0000e-04\n",
            "Epoch 101/200\n",
            "6/6 [==============================] - 0s 2ms/step - loss: 0.8732 - lr: 1.0000e-04\n",
            "Epoch 102/200\n",
            "6/6 [==============================] - 0s 2ms/step - loss: 0.8734 - lr: 1.0000e-04\n",
            "Epoch 103/200\n",
            "6/6 [==============================] - 0s 3ms/step - loss: 0.8703 - lr: 1.0000e-04\n",
            "Epoch 104/200\n",
            "6/6 [==============================] - 0s 3ms/step - loss: 0.8712 - lr: 1.0000e-04\n",
            "Epoch 105/200\n",
            "6/6 [==============================] - 0s 2ms/step - loss: 0.8749 - lr: 1.0000e-04\n",
            "Epoch 106/200\n",
            "6/6 [==============================] - 0s 2ms/step - loss: 0.8765 - lr: 1.0000e-04\n",
            "Epoch 107/200\n",
            "6/6 [==============================] - 0s 3ms/step - loss: 0.8757 - lr: 1.0000e-04\n",
            "Epoch 108/200\n",
            "6/6 [==============================] - 0s 2ms/step - loss: 0.8766 - lr: 1.0000e-04\n",
            "Epoch 109/200\n",
            "6/6 [==============================] - 0s 3ms/step - loss: 0.8783 - lr: 1.0000e-04\n",
            "Epoch 110/200\n",
            "6/6 [==============================] - 0s 3ms/step - loss: 0.8717 - lr: 1.0000e-04\n",
            "Epoch 111/200\n",
            "6/6 [==============================] - 0s 2ms/step - loss: 0.8729 - lr: 1.0000e-04\n",
            "Epoch 112/200\n",
            "6/6 [==============================] - 0s 2ms/step - loss: 0.8695 - lr: 1.0000e-04\n",
            "Epoch 113/200\n",
            "6/6 [==============================] - 0s 2ms/step - loss: 0.8922 - lr: 1.0000e-04\n",
            "Epoch 114/200\n",
            "6/6 [==============================] - 0s 3ms/step - loss: 0.8902 - lr: 1.0000e-04\n",
            "Epoch 115/200\n",
            "6/6 [==============================] - 0s 2ms/step - loss: 0.8686 - lr: 1.0000e-04\n",
            "Epoch 116/200\n",
            "6/6 [==============================] - 0s 3ms/step - loss: 0.8787 - lr: 1.0000e-04\n",
            "Epoch 117/200\n",
            "6/6 [==============================] - 0s 3ms/step - loss: 0.8730 - lr: 1.0000e-04\n",
            "Epoch 118/200\n",
            "6/6 [==============================] - 0s 3ms/step - loss: 0.8703 - lr: 1.0000e-04\n",
            "Epoch 119/200\n",
            "6/6 [==============================] - 0s 3ms/step - loss: 0.8769 - lr: 1.0000e-04\n",
            "Epoch 120/200\n",
            "6/6 [==============================] - 0s 3ms/step - loss: 0.8724 - lr: 1.0000e-04\n",
            "Epoch 121/200\n",
            "6/6 [==============================] - 0s 3ms/step - loss: 0.8782 - lr: 1.0000e-04\n",
            "Epoch 122/200\n",
            "6/6 [==============================] - 0s 2ms/step - loss: 0.8903 - lr: 1.0000e-04\n",
            "Epoch 123/200\n",
            "6/6 [==============================] - 0s 2ms/step - loss: 0.8777 - lr: 1.0000e-04\n",
            "Epoch 124/200\n",
            "6/6 [==============================] - 0s 3ms/step - loss: 0.8709 - lr: 1.0000e-04\n",
            "Epoch 125/200\n",
            "6/6 [==============================] - 0s 3ms/step - loss: 0.8729 - lr: 1.0000e-04\n",
            "Epoch 126/200\n",
            "6/6 [==============================] - 0s 2ms/step - loss: 0.8844 - lr: 1.0000e-04\n",
            "Epoch 127/200\n",
            "6/6 [==============================] - 0s 2ms/step - loss: 0.8820 - lr: 1.0000e-04\n",
            "Epoch 128/200\n",
            "6/6 [==============================] - 0s 3ms/step - loss: 0.8814 - lr: 1.0000e-04\n",
            "Epoch 129/200\n",
            "6/6 [==============================] - 0s 2ms/step - loss: 0.9125 - lr: 1.0000e-04\n",
            "Epoch 130/200\n",
            "6/6 [==============================] - 0s 2ms/step - loss: 0.9061 - lr: 1.0000e-04\n",
            "Epoch 131/200\n",
            "6/6 [==============================] - 0s 2ms/step - loss: 0.8712 - lr: 1.0000e-04\n",
            "Epoch 132/200\n",
            "6/6 [==============================] - 0s 2ms/step - loss: 0.8897 - lr: 1.0000e-04\n",
            "Epoch 133/200\n",
            "6/6 [==============================] - 0s 2ms/step - loss: 0.8850 - lr: 1.0000e-04\n",
            "Epoch 134/200\n",
            "6/6 [==============================] - 0s 2ms/step - loss: 0.8738 - lr: 1.0000e-04\n",
            "Epoch 135/200\n",
            "6/6 [==============================] - 0s 2ms/step - loss: 0.8738 - lr: 1.0000e-04\n",
            "Epoch 136/200\n",
            "6/6 [==============================] - 0s 2ms/step - loss: 0.8741 - lr: 1.0000e-04\n",
            "Epoch 137/200\n",
            "6/6 [==============================] - 0s 2ms/step - loss: 0.8774 - lr: 1.0000e-04\n",
            "Epoch 138/200\n",
            "6/6 [==============================] - 0s 2ms/step - loss: 0.8763 - lr: 1.0000e-04\n",
            "Epoch 139/200\n",
            "6/6 [==============================] - 0s 2ms/step - loss: 0.9061 - lr: 1.0000e-04\n",
            "Epoch 140/200\n",
            "6/6 [==============================] - 0s 2ms/step - loss: 0.9011 - lr: 1.0000e-04\n",
            "Epoch 141/200\n",
            "6/6 [==============================] - 0s 2ms/step - loss: 0.8782 - lr: 1.0000e-04\n",
            "Epoch 142/200\n",
            "6/6 [==============================] - 0s 2ms/step - loss: 0.8739 - lr: 1.0000e-04\n",
            "Epoch 143/200\n",
            "6/6 [==============================] - 0s 3ms/step - loss: 0.8793 - lr: 1.0000e-04\n",
            "Epoch 144/200\n",
            "6/6 [==============================] - 0s 3ms/step - loss: 0.8743 - lr: 1.0000e-04\n",
            "Epoch 145/200\n",
            "6/6 [==============================] - 0s 2ms/step - loss: 0.8715 - lr: 1.0000e-04\n",
            "Epoch 146/200\n",
            "6/6 [==============================] - 0s 2ms/step - loss: 0.9129 - lr: 1.0000e-04\n",
            "Epoch 147/200\n",
            "6/6 [==============================] - 0s 3ms/step - loss: 0.8875 - lr: 1.0000e-04\n",
            "Epoch 148/200\n",
            "6/6 [==============================] - 0s 3ms/step - loss: 0.8726 - lr: 1.0000e-04\n",
            "Epoch 149/200\n",
            "6/6 [==============================] - 0s 3ms/step - loss: 0.8839 - lr: 1.0000e-04\n",
            "Epoch 150/200\n",
            "6/6 [==============================] - 0s 2ms/step - loss: 0.8824 - lr: 1.0000e-04\n",
            "Epoch 151/200\n",
            "6/6 [==============================] - 0s 2ms/step - loss: 0.8711 - lr: 1.0000e-04\n",
            "Epoch 152/200\n",
            "6/6 [==============================] - 0s 2ms/step - loss: 0.8706 - lr: 1.0000e-04\n",
            "Epoch 153/200\n",
            "6/6 [==============================] - 0s 2ms/step - loss: 0.8715 - lr: 1.0000e-04\n",
            "Epoch 154/200\n",
            "6/6 [==============================] - 0s 3ms/step - loss: 0.8726 - lr: 1.0000e-04\n",
            "Epoch 155/200\n",
            "6/6 [==============================] - 0s 2ms/step - loss: 0.8783 - lr: 1.0000e-04\n",
            "Epoch 156/200\n",
            "6/6 [==============================] - 0s 3ms/step - loss: 0.8773 - lr: 1.0000e-04\n",
            "Epoch 157/200\n",
            "6/6 [==============================] - 0s 2ms/step - loss: 0.8752 - lr: 1.0000e-04\n",
            "Epoch 158/200\n",
            "6/6 [==============================] - 0s 2ms/step - loss: 0.8853 - lr: 1.0000e-04\n",
            "Epoch 159/200\n",
            "6/6 [==============================] - 0s 4ms/step - loss: 0.8795 - lr: 1.0000e-04\n",
            "Epoch 160/200\n",
            "6/6 [==============================] - 0s 3ms/step - loss: 0.8761 - lr: 1.0000e-04\n",
            "Epoch 161/200\n",
            "6/6 [==============================] - 0s 3ms/step - loss: 0.8693 - lr: 1.0000e-04\n",
            "Epoch 162/200\n",
            "6/6 [==============================] - 0s 3ms/step - loss: 0.8820 - lr: 1.0000e-04\n",
            "Epoch 163/200\n",
            "6/6 [==============================] - 0s 3ms/step - loss: 0.8781 - lr: 1.0000e-04\n",
            "Epoch 164/200\n",
            "6/6 [==============================] - 0s 2ms/step - loss: 0.8807 - lr: 1.0000e-04\n",
            "Epoch 165/200\n",
            "6/6 [==============================] - 0s 3ms/step - loss: 0.8916 - lr: 1.0000e-04\n",
            "Epoch 166/200\n",
            "6/6 [==============================] - 0s 2ms/step - loss: 0.8768 - lr: 1.0000e-04\n",
            "Epoch 167/200\n",
            "6/6 [==============================] - 0s 2ms/step - loss: 0.8716 - lr: 1.0000e-04\n",
            "Epoch 168/200\n",
            "6/6 [==============================] - 0s 2ms/step - loss: 0.8724 - lr: 1.0000e-04\n",
            "Epoch 169/200\n",
            "6/6 [==============================] - 0s 2ms/step - loss: 0.8788 - lr: 1.0000e-04\n",
            "Epoch 170/200\n",
            "6/6 [==============================] - 0s 2ms/step - loss: 0.8706 - lr: 1.0000e-04\n",
            "Epoch 171/200\n",
            "6/6 [==============================] - 0s 2ms/step - loss: 0.8717 - lr: 1.0000e-04\n",
            "Epoch 172/200\n",
            "6/6 [==============================] - 0s 2ms/step - loss: 0.8717 - lr: 1.0000e-04\n",
            "Epoch 173/200\n",
            "6/6 [==============================] - 0s 2ms/step - loss: 0.8859 - lr: 1.0000e-04\n",
            "Epoch 174/200\n",
            "6/6 [==============================] - 0s 2ms/step - loss: 0.8886 - lr: 1.0000e-04\n",
            "Epoch 175/200\n",
            "6/6 [==============================] - 0s 2ms/step - loss: 0.8793 - lr: 1.0000e-04\n",
            "Epoch 176/200\n",
            "6/6 [==============================] - 0s 2ms/step - loss: 0.8732 - lr: 1.0000e-04\n",
            "Epoch 177/200\n",
            "6/6 [==============================] - 0s 2ms/step - loss: 0.8707 - lr: 1.0000e-04\n",
            "Epoch 178/200\n",
            "6/6 [==============================] - 0s 2ms/step - loss: 0.8707 - lr: 1.0000e-04\n",
            "Epoch 179/200\n",
            "6/6 [==============================] - 0s 2ms/step - loss: 0.9103 - lr: 1.0000e-04\n",
            "Epoch 180/200\n",
            "6/6 [==============================] - 0s 2ms/step - loss: 0.9103 - lr: 1.0000e-04\n",
            "Epoch 181/200\n",
            "6/6 [==============================] - 0s 2ms/step - loss: 0.8779 - lr: 1.0000e-04\n",
            "Epoch 182/200\n",
            "6/6 [==============================] - 0s 2ms/step - loss: 0.8742 - lr: 1.0000e-04\n",
            "Epoch 183/200\n",
            "6/6 [==============================] - 0s 2ms/step - loss: 0.8754 - lr: 1.0000e-04\n",
            "Epoch 184/200\n",
            "6/6 [==============================] - 0s 3ms/step - loss: 0.8734 - lr: 1.0000e-04\n",
            "Epoch 185/200\n",
            "6/6 [==============================] - 0s 2ms/step - loss: 0.8987 - lr: 1.0000e-04\n",
            "Epoch 186/200\n",
            "6/6 [==============================] - 0s 2ms/step - loss: 0.8849 - lr: 1.0000e-04\n",
            "Epoch 187/200\n",
            "6/6 [==============================] - 0s 2ms/step - loss: 0.8730 - lr: 1.0000e-04\n",
            "Epoch 188/200\n",
            "6/6 [==============================] - 0s 2ms/step - loss: 0.8971 - lr: 1.0000e-04\n",
            "Epoch 189/200\n",
            "6/6 [==============================] - 0s 2ms/step - loss: 0.8859 - lr: 1.0000e-04\n",
            "Epoch 190/200\n",
            "6/6 [==============================] - 0s 2ms/step - loss: 0.8662 - lr: 1.0000e-04\n",
            "Epoch 191/200\n",
            "6/6 [==============================] - 0s 2ms/step - loss: 0.8755 - lr: 1.0000e-04\n",
            "Epoch 192/200\n",
            "6/6 [==============================] - 0s 2ms/step - loss: 0.8701 - lr: 1.0000e-04\n",
            "Epoch 193/200\n",
            "6/6 [==============================] - 0s 2ms/step - loss: 0.8747 - lr: 1.0000e-04\n",
            "Epoch 194/200\n",
            "6/6 [==============================] - 0s 2ms/step - loss: 0.8882 - lr: 1.0000e-04\n",
            "Epoch 195/200\n",
            "6/6 [==============================] - 0s 2ms/step - loss: 0.8775 - lr: 1.0000e-04\n",
            "Epoch 196/200\n",
            "6/6 [==============================] - 0s 2ms/step - loss: 0.8705 - lr: 1.0000e-04\n",
            "Epoch 197/200\n",
            "6/6 [==============================] - 0s 3ms/step - loss: 0.8800 - lr: 1.0000e-04\n",
            "Epoch 198/200\n",
            "6/6 [==============================] - 0s 2ms/step - loss: 0.8815 - lr: 1.0000e-04\n",
            "Epoch 199/200\n",
            "6/6 [==============================] - 0s 3ms/step - loss: 0.8711 - lr: 1.0000e-04\n",
            "Epoch 200/200\n",
            "6/6 [==============================] - 0s 2ms/step - loss: 0.8838 - lr: 1.0000e-04\n"
          ]
        }
      ]
    },
    {
      "cell_type": "code",
      "source": [
        "#Tracemos los resultados\n",
        "\n",
        "# Plot the loss\n",
        "plt.plot(fit.history['loss'], label='loss')"
      ],
      "metadata": {
        "id": "uB_aAFZorOBK",
        "colab": {
          "base_uri": "https://localhost:8080/",
          "height": 286
        },
        "outputId": "479072ac-b263-4ed7-feda-acfc10d78ae8"
      },
      "execution_count": null,
      "outputs": [
        {
          "output_type": "execute_result",
          "data": {
            "text/plain": [
              "[<matplotlib.lines.Line2D at 0x7fb6ddbaebe0>]"
            ]
          },
          "metadata": {},
          "execution_count": 4
        },
        {
          "output_type": "display_data",
          "data": {
            "text/plain": [
              "<Figure size 432x288 with 1 Axes>"
            ],
            "image/png": "[encoded data removed]"
          },
          "metadata": {
            "needs_background": "light"
          }
        }
      ]
    },
    {
      "cell_type": "code",
      "source": [
        "\n",
        "# Nuestra red tiene una sola capa.\n",
        "# Permite mostrar el valor de m & b en la ecuación lineal y = mx + b\n",
        "\n",
        "print(model.layers)\n",
        "print(model.layers[0].get_weights())"
      ],
      "metadata": {
        "id": "mWbS4aQwrdOR",
        "colab": {
          "base_uri": "https://localhost:8080/"
        },
        "outputId": "530a2735-aba9-46dc-a063-a0359f5528a6"
      },
      "execution_count": null,
      "outputs": [
        {
          "output_type": "stream",
          "name": "stdout",
          "text": [
            "[<keras.layers.core.dense.Dense object at 0x7fb6e22b4730>]\n",
            "[array([[0.34566164]], dtype=float32), array([17.764088], dtype=float32)]\n"
          ]
        }
      ]
    },
    {
      "cell_type": "code",
      "source": [
        "# Usamos la misma X para predecir\n",
        "\n",
        "pred = model.predict(X).flatten()\n",
        "plt.scatter(X, Y)\n",
        "plt.plot(X, pred)"
      ],
      "metadata": {
        "id": "jmezpj6TroS1",
        "colab": {
          "base_uri": "https://localhost:8080/",
          "height": 307
        },
        "outputId": "0292393f-391e-469b-91d2-98732d360e94"
      },
      "execution_count": null,
      "outputs": [
        {
          "output_type": "stream",
          "name": "stdout",
          "text": [
            "6/6 [==============================] - 0s 2ms/step\n"
          ]
        },
        {
          "output_type": "execute_result",
          "data": {
            "text/plain": [
              "[<matplotlib.lines.Line2D at 0x7fb6dc3dd640>]"
            ]
          },
          "metadata": {},
          "execution_count": 6
        },
        {
          "output_type": "display_data",
          "data": {
            "text/plain": [
              "<Figure size 432x288 with 1 Axes>"
            ],
            "image/png": "[encoded data removed]"
          },
          "metadata": {
            "needs_background": "light"
          }
        }
      ]
    },
    {
      "cell_type": "code",
      "source": [
        "# Verifiquemos si nuestro modelo es exacto\n",
        "\n",
        "#Obtenemos el peso (w) y el sesgo (b)\n",
        "\n",
        "w, b = model.layers[0].get_weights()\n",
        "\n",
        "#Nosotras aplicamos y = mx + b\n",
        "\n",
        "pred2 = ((X * w) + b).flatten()\n",
        "\n",
        "# Graficar la prediccion con formula\n",
        "plt.plot(X, pred)\n",
        "\n",
        "# Graficar la prediccion con el modelo\n",
        "plt.plot(X, pred2)"
      ],
      "metadata": {
        "id": "7uyc_MbfrxKr",
        "colab": {
          "base_uri": "https://localhost:8080/",
          "height": 290
        },
        "outputId": "9c111613-2bb6-43b0-bc45-429927e31516"
      },
      "execution_count": null,
      "outputs": [
        {
          "output_type": "execute_result",
          "data": {
            "text/plain": [
              "[<matplotlib.lines.Line2D at 0x7fb6d7ccb8b0>]"
            ]
          },
          "metadata": {},
          "execution_count": 33
        },
        {
          "output_type": "display_data",
          "data": {
            "text/plain": [
              "<Figure size 432x288 with 1 Axes>"
            ],
            "image/png": "[encoded data removed]"
          },
          "metadata": {
            "needs_background": "light"
          }
        }
      ]
    }
  ]
}